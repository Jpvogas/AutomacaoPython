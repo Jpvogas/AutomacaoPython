{
 "cells": [
  {
   "cell_type": "markdown",
   "metadata": {},
   "source": [
    "## **Bibliotecas** "
   ]
  },
  {
   "cell_type": "code",
   "execution_count": 57,
   "metadata": {},
   "outputs": [],
   "source": [
    "import selenium \n",
    "from selenium import webdriver\n",
    "from selenium.webdriver.common.by import By\n",
    "import cpf\n",
    "from fakedadosbr import fake_cidadao, fake_empresa\n",
    "import re\n",
    "# from selenium.webdriver.support.ui import Select\n",
    "import random"
   ]
  },
  {
   "cell_type": "markdown",
   "metadata": {},
   "source": [
    "# **Tela de login**"
   ]
  },
  {
   "cell_type": "code",
   "execution_count": 58,
   "metadata": {},
   "outputs": [],
   "source": [
    "driver = webdriver.Chrome()\n",
    "driver.get(\"https://gpcwebhomol.rcasistemas.com.br/Account/Login\")\n"
   ]
  },
  {
   "cell_type": "code",
   "execution_count": 59,
   "metadata": {},
   "outputs": [],
   "source": [
    "#Clica no botão de login\n",
    "driver.find_element(by=By.XPATH, value='//*[@id=\"Login\"]').click()\n",
    "#Prenche login e senha\n",
    "driver.find_element(by=By.XPATH, value='//*[@id=\"Login\"]').clear()\n",
    "driver.find_element(by=By.XPATH, value='//*[@id=\"Login\"]').send_keys('09072237000152')\n",
    "driver.find_element(by=By.XPATH, value='//*[@id=\"Senha\"]').clear()\n",
    "driver.find_element(by=By.XPATH, value='//*[@id=\"Senha\"]').send_keys('123456')\n",
    "#Clica no botão entrar\n",
    "driver.find_element(by=By.XPATH, value='//*[@id=\"btnEntrar\"]').click()\n"
   ]
  },
  {
   "cell_type": "markdown",
   "metadata": {},
   "source": [
    "## **Entrar no cadastro de responsavel Técnico**"
   ]
  },
  {
   "cell_type": "code",
   "execution_count": 60,
   "metadata": {},
   "outputs": [],
   "source": [
    "#Cadastro do responsavel técnico\n",
    "#Cadastro click\n",
    "driver.find_element(by=By.XPATH, value='//*[@id=\"accordionSidebar\"]/li[2]/a').click()\n",
    "#Click responsavel técnico\n",
    "#driver.find_element(by=By.XPATH, value='//*[@id=\"collapseTwo\"]/div/a[2]').click()\n",
    "driver.find_element(by=By.XPATH, value='//*[@id=\"collapseTwo\"]/div/a[1]').click()\n",
    "#Click botão +\n",
    "driver.find_element(by=By.XPATH, value='//*[@id=\"content\"]/div/h1/span/a/i').click()\n",
    "\n",
    "\n"
   ]
  },
  {
   "cell_type": "markdown",
   "metadata": {},
   "source": [
    "## **Prencher o cadastro de Responsável Técnico**\n"
   ]
  },
  {
   "cell_type": "code",
   "execution_count": 79,
   "metadata": {},
   "outputs": [
    {
     "name": "stdout",
     "output_type": "stream",
     "text": [
      "34937474129\n"
     ]
    }
   ],
   "source": [
    "##Dados da variaveis\n",
    "\n",
    "cidadao = fake_cidadao()\n",
    "for i in cidadao:\n",
    "    p_nome = i.get('nome')\n",
    "    p_rg = i.get('rg')\n",
    "    p_tel = i.get('celular')\n",
    "    p_email = i.get('email')\n",
    "#tratamento nome curto\n",
    "p_nomeL = re.split(\"\\s\", p_nome)\n",
    "p_namecurto = p_nomeL[0]\n",
    "\n",
    "#Tratamento selecionar status\n",
    "estadonum = random.randint(2,28)\n",
    "\n",
    "#random CRF\n",
    "numCRF = random.randint(10000000000,99999999999)\n",
    "print(numCRF)\n",
    "\n",
    "\n",
    "\n",
    "\n",
    "\n",
    "#Clica no botão de cpf e digita\n",
    "driver.find_element(by=By.XPATH, value='//*[@id=\"inputcnpjcpf\"]').click()\n",
    "driver.find_element(by=By.XPATH, value='//*[@id=\"inputcnpjcpf\"]').clear()\n",
    "driver.find_element(by=By.XPATH, value='//*[@id=\"inputcnpjcpf\"]').send_keys(cpf.gerar(1,-1))\n",
    "#Clica no botão de identidade e digita\n",
    "driver.find_element(by=By.XPATH, value='//*[@id=\"inputidentidade\"]').clear()\n",
    "driver.find_element(by=By.XPATH, value='//*[@id=\"inputidentidade\"]').send_keys(p_rg)\n",
    "#Clica no Telefone e digita\n",
    "driver.find_element(by=By.XPATH, value='//*[@id=\"inputTelefone\"]').clear()\n",
    "driver.find_element(by=By.XPATH, value='//*[@id=\"inputTelefone\"]').send_keys(p_tel)\n",
    "#Clica no nome curto e prenche\n",
    "driver.find_element(by=By.XPATH, value='//*[@id=\"Pessoa_NomeFantasia\"]').clear()\n",
    "driver.find_element(by=By.XPATH, value='//*[@id=\"Pessoa_NomeFantasia\"]').send_keys(p_namecurto)\n",
    "#Clica no nome completo e prenche\n",
    "driver.find_element(by=By.XPATH, value='//*[@id=\"Pessoa_RazaoSocial\"]').clear()\n",
    "driver.find_element(by=By.XPATH, value='//*[@id=\"Pessoa_RazaoSocial\"]').send_keys(p_nome)\n",
    "#Clica no email e prenche\n",
    "driver.find_element(by=By.XPATH, value='//*[@id=\"Pessoa_Email\"]').clear()\n",
    "driver.find_element(by=By.XPATH, value='//*[@id=\"Pessoa_Email\"]').send_keys(p_email)\n",
    "#Clica no CRF e prenche\n",
    "driver.find_element(by=By.XPATH, value='//*[@id=\"CRF\"]').clear()\n",
    "driver.find_element(by=By.XPATH, value='//*[@id=\"CRF\"]').send_keys(numCRF)\n",
    "#Seleciona o estado\n",
    "driver.find_element(by=By.XPATH, value=f'//*[@id=\"Uf\"]/option[{estadonum}]').click()\n",
    "\n",
    "#Clica e digita o logradouro\n",
    "#Clica e digita o bairro\n",
    "#Clica e digita o numero\n",
    "#driver.find_element(by=By.XPATH, value=f'//*[@id=\"Uf\"]/option[{numCRF}]').click()\n",
    "#Clica e Digita cep\n",
    "#Clica e Digita o email\n",
    "#Clica e digita a senha\n",
    "#Clica no botão de salvar"
   ]
  },
  {
   "cell_type": "markdown",
   "metadata": {},
   "source": [
    "## **Testes**\n"
   ]
  },
  {
   "cell_type": "code",
   "execution_count": 77,
   "metadata": {},
   "outputs": [
    {
     "name": "stdout",
     "output_type": "stream",
     "text": [
      "[{'nome': 'Juan Francisco Otávio de Paula', 'idade': 20, 'cpf': '68655720178', 'rg': '234669688', 'data_nasc': '12/06/2002', 'sexo': 'Feminino', 'signo': 'Gêmeos', 'mae': 'Elaine Alessandra Isis', 'pai': 'Enrico Theo de Paula', 'email': 'juan_depaula@slb.com', 'senha': 'F8lEnHgdAf', 'cep': '74970105', 'endereco': 'Rua Tangará', 'numero': 700, 'bairro': 'Cidade Livre', 'cidade': 'Aparecida de Goiânia', 'estado': 'GO', 'telefone_fixo': '6236983331', 'celular': '62996097788', 'altura': '1,84', 'peso': 78, 'tipo_sanguineo': 'A-', 'cor': 'verde'}]\n",
      "{'nome': 'Heloisa e Theo Pizzaria Delivery ME', 'cnpj': '38637618000130', 'ie': '172173906', 'data_abertura': '17/07/2010', 'site': 'www.heloisaetheopizzariadeliveryme.com.br', 'email': 'contato@heloisaetheopizzariadeliveryme.com.br', 'cep': '64600088', 'endereco': 'Praça Justino Luz', 'numero': '318', 'cidade': 'Picos', 'estado': 'PI', 'telefone_fixo': '8926980909', 'celular': '89981195378'}\n",
      "{'marca': 'Acura', 'modelo': 'Integra GS 1.8', 'ano': '1991', 'renavam': '73413902043', 'placa_veiculo': 'HTS4878', 'cor': 'Laranja'}\n"
     ]
    }
   ],
   "source": [
    "# from tabnanny import check\n",
    "# from fakedadosbr import fake_cidadao\n",
    "\n",
    "# cidadao = fake_cidadao()\n",
    "# for i in cidadao:\n",
    "#     p_nome = i.get ('nome')\n",
    "\n",
    "\n",
    "# print(p_nome)\n",
    "# p_nomeL = re.split(\"\\s\", p_nome)\n",
    "# print(p_nomeL)\n",
    "\n",
    "# p_namecurto = p_nomeL[0]\n",
    "# print(p_namecurto)\n",
    "# #p_rg = i.get('rg')\n",
    "\n",
    "# #print(cidadao)\n",
    "# # print (check)\n",
    "\n",
    "\n",
    "# # import re\n",
    "\n",
    "# #Split the string at every white-space character:\n",
    "# print(p_name)\n",
    "# p_nomeL = re.split(\"\\s\", p_nome)\n",
    "# print(p_nomeL)\n",
    "\n",
    "\n",
    "# # y = x[2]\n",
    "# # print(y)\n",
    "\n",
    "\n",
    "# cidadao = fake_cidadao()\n",
    "# for i in cidadao:\n",
    "#     p_nome = i.get('nome')\n",
    "#     p_rg = i.get('rg')\n",
    "#     p_tel = i.get('telefone_fixo')\n",
    "\n",
    "\n",
    "#     print(cidadao)\n",
    "\n",
    "\n",
    "# from fakedadosbr import fake_cidadao, fake_empresa, fake_veiculo\n",
    "\n",
    "cidadao = fake_cidadao()\n",
    "company = fake_empresa()\n",
    "vehicle = fake_veiculo()\n",
    "\n",
    "print(cidadao)\n",
    "print(company)\n",
    "print(vehicle)\n",
    "\n",
    "# p_nomeL = re.split(\"\\s\", p_nome)\n",
    "# p_namecurto = p_nomeL[0]\n",
    "\n",
    "# estadonum = random.randint(2,28)\n",
    "# print(estadonum)\n",
    "\n",
    "# print(f'O numero é: {estadonum}')"
   ]
  }
 ],
 "metadata": {
  "kernelspec": {
   "display_name": "Python 3.10.4 64-bit",
   "language": "python",
   "name": "python3"
  },
  "language_info": {
   "codemirror_mode": {
    "name": "ipython",
    "version": 3
   },
   "file_extension": ".py",
   "mimetype": "text/x-python",
   "name": "python",
   "nbconvert_exporter": "python",
   "pygments_lexer": "ipython3",
   "version": "3.10.4"
  },
  "orig_nbformat": 4,
  "vscode": {
   "interpreter": {
    "hash": "1f5b2b5b602d2add996fbed2eea0cbe758e6109cfc274485bdead68c27c84411"
   }
  }
 },
 "nbformat": 4,
 "nbformat_minor": 2
}
