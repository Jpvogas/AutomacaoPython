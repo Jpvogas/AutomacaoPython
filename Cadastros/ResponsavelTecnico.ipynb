{
 "cells": [
  {
   "cell_type": "markdown",
   "metadata": {},
   "source": [
    "## *Bibliotecas*"
   ]
  },
  {
   "cell_type": "code",
   "execution_count": null,
   "metadata": {},
   "outputs": [],
   "source": [
    "import selenium \n",
    "from selenium import webdriver\n",
    "from selenium.webdriver.common.by import By\n",
    "import cpf\n",
    "from fakedadosbr import fake_cidadao, fake_empresa\n",
    "import re\n",
    "import random\n",
    "from time import sleep\n",
    "\n",
    "from selenium.webdriver.support.ui import WebDriverWait\n",
    "from selenium.webdriver.support import expected_conditions as EC\n",
    "from selenium.webdriver.common.by import By\n",
    "from selenium.common.exceptions import TimeoutException"
   ]
  },
  {
   "cell_type": "markdown",
   "metadata": {},
   "source": [
    "# *Tela de login*"
   ]
  },
  {
   "cell_type": "code",
   "execution_count": null,
   "metadata": {},
   "outputs": [],
   "source": [
    "driver = webdriver.Chrome()\n",
    "driver.get(\"https://gpcwebhomol.rcasistemas.com.br/Account/Login\")\n",
    "driver.maximize_window()\n"
   ]
  },
  {
   "cell_type": "code",
   "execution_count": null,
   "metadata": {},
   "outputs": [],
   "source": [
    "#Clica no botão de login\n",
    "driver.find_element(by=By.XPATH, value='//*[@id=\"Login\"]').click()\n",
    "#Prenche login e senha\n",
    "driver.find_element(by=By.XPATH, value='//*[@id=\"Login\"]').clear()\n",
    "driver.find_element(by=By.XPATH, value='//*[@id=\"Login\"]').send_keys('09072237000152')\n",
    "driver.find_element(by=By.XPATH, value='//*[@id=\"Senha\"]').clear()\n",
    "driver.find_element(by=By.XPATH, value='//*[@id=\"Senha\"]').send_keys('123456')\n",
    "#Clica no botão entrar\n",
    "driver.find_element(by=By.XPATH, value='//*[@id=\"btnEntrar\"]').click()\n"
   ]
  },
  {
   "cell_type": "markdown",
   "metadata": {},
   "source": [
    "## *Entrar no cadastro de responsavel Técnico*"
   ]
  },
  {
   "cell_type": "code",
   "execution_count": null,
   "metadata": {},
   "outputs": [],
   "source": [
    "#Cadastro do responsavel técnico\n",
    "#Cadastro click\n",
    "driver.find_element(by=By.XPATH, value='//*[@id=\"accordionSidebar\"]/li[2]/a').click()\n",
    "#Click responsavel técnico\n",
    "#driver.find_element(by=By.XPATH, value='//*[@id=\"collapseTwo\"]/div/a[2]').click()\n",
    "driver.find_element(by=By.XPATH, value='//*[@id=\"collapseTwo\"]/div/a[1]').click()\n",
    "#Click botão +\n",
    "driver.find_element(by=By.XPATH, value='//*[@id=\"content\"]/div/h1/span/a/i').click()\n",
    "\n",
    "\n"
   ]
  },
  {
   "cell_type": "markdown",
   "metadata": {},
   "source": [
    "## *Prencher o cadastro de Responsável Técnico*\n"
   ]
  },
  {
   "cell_type": "code",
   "execution_count": null,
   "metadata": {},
   "outputs": [],
   "source": [
    "##Dados da variaveis\n",
    "loop =1\n",
    "inputloop= int(input(\"quantidade: \"))\n",
    "while loop <= inputloop:\n",
    "\n",
    "    print(loop)\n",
    "    cidadao = fake_cidadao()\n",
    "    for i in cidadao:\n",
    "        p_nome = i.get('nome')\n",
    "        p_rg = i.get('rg')\n",
    "        p_tel = i.get('celular')\n",
    "        p_email = i.get('email')\n",
    "        p_endereco = i.get('endereco')\n",
    "        p_bairro = i.get('bairro')\n",
    "        p_numero = i.get('numero')\n",
    "        p_cep = i.get('cep')\n",
    "        p_senha = i.get('senha')\n",
    "        p_CPF = i.get('cpf')\n",
    "        \n",
    "\n",
    "    #tratamento nome curto\n",
    "    p_nomeL = re.split(\"\\s\", p_nome)\n",
    "    p_namecurto = p_nomeL[0]\n",
    "\n",
    "    #Tratamento selecionar status\n",
    "    estadonum = random.randint(2,28)\n",
    "\n",
    "    #random CRF\n",
    "    numCRF = random.randint(10000000000,99999999999)\n",
    "\n",
    "    cidaderandom = random.randint(2,20)\n",
    "\n",
    "    # p_CPF = cpf.gerar(1,-1)\n",
    "    # print(p_CPF)\n",
    "\n",
    "    #Clica no botão de cpf e digita\n",
    "    driver.find_element(by=By.XPATH, value='//*[@id=\"inputcnpjcpf\"]').click()\n",
    "    driver.find_element(by=By.XPATH, value='//*[@id=\"inputcnpjcpf\"]').clear()\n",
    "    driver.find_element(by=By.XPATH, value='//*[@id=\"inputcnpjcpf\"]').send_keys(p_CPF)\n",
    "    #Clica no botão de identidade e digita\n",
    "    driver.find_element(by=By.XPATH, value='//*[@id=\"inputidentidade\"]').clear()\n",
    "    driver.find_element(by=By.XPATH, value='//*[@id=\"inputidentidade\"]').send_keys(p_rg)\n",
    "    #Clica no Telefone e digita\n",
    "    driver.find_element(by=By.XPATH, value='//*[@id=\"inputTelefone\"]').clear()\n",
    "    driver.find_element(by=By.XPATH, value='//*[@id=\"inputTelefone\"]').send_keys(p_tel)\n",
    "    #Clica no nome curto e prenche\n",
    "    driver.find_element(by=By.XPATH, value='//*[@id=\"Pessoa_NomeFantasia\"]').clear()\n",
    "    driver.find_element(by=By.XPATH, value='//*[@id=\"Pessoa_NomeFantasia\"]').send_keys(p_namecurto)\n",
    "    #Clica no nome completo e prenche\n",
    "    driver.find_element(by=By.XPATH, value='//*[@id=\"Pessoa_RazaoSocial\"]').clear()\n",
    "    driver.find_element(by=By.XPATH, value='//*[@id=\"Pessoa_RazaoSocial\"]').send_keys(p_nome)\n",
    "    #Clica no email e prenche\n",
    "    driver.find_element(by=By.XPATH, value='//*[@id=\"Pessoa_Email\"]').clear()\n",
    "    driver.find_element(by=By.XPATH, value='//*[@id=\"Pessoa_Email\"]').send_keys(p_email)\n",
    "    #Clica no CRF e prenche\n",
    "    driver.find_element(by=By.XPATH, value='//*[@id=\"CRF\"]').clear()\n",
    "    driver.find_element(by=By.XPATH, value='//*[@id=\"CRF\"]').send_keys(numCRF)\n",
    "    #Seleciona o estado\n",
    "    driver.find_element(by=By.XPATH, value=f'//*[@id=\"Uf\"]/option[{estadonum}]').click()\n",
    "    #Clica e digita o logradouro\n",
    "    driver.find_element(by=By.XPATH, value='//*[@id=\"Pessoa_Endereco\"]').clear()\n",
    "    driver.find_element(by=By.XPATH, value='//*[@id=\"Pessoa_Endereco\"]').send_keys(p_endereco)\n",
    "    #Clica e digita o bairro\n",
    "    driver.find_element(by=By.XPATH, value='//*[@id=\"Pessoa_Bairro\"]').clear()\n",
    "    driver.find_element(by=By.XPATH, value='//*[@id=\"Pessoa_Bairro\"]').send_keys(p_bairro)\n",
    "    #Clica e digita o numero\n",
    "    driver.find_element(by=By.XPATH, value='//*[@id=\"Pessoa_Numero\"]').clear()\n",
    "    driver.find_element(by=By.XPATH, value='//*[@id=\"Pessoa_Numero\"]').send_keys(p_numero)\n",
    "    #Clica e Digita cep\n",
    "    driver.find_element(by=By.XPATH, value='//*[@id=\"inputCep\"]').clear()\n",
    "    driver.find_element(by=By.XPATH, value='//*[@id=\"inputCep\"]').send_keys(p_cep)\n",
    "\n",
    "    #clica e seleciona a cidade\n",
    "    lupacidadde = driver.find_element(by=By.XPATH, value='//*[@id=\"content\"]/div/form/div/div/div[11]/div[1]/div[3]/div/a')\n",
    "    lupacidadde.click()\n",
    "\n",
    "    delay = 10 # seconds\n",
    "    try:\n",
    "        myElem = WebDriverWait(driver, delay).until(EC.presence_of_element_located((By.XPATH, '//*[@id=\"modalPesquisaCidades\"]'))) \n",
    "        #print(myElem)\n",
    "        sleep (1)\n",
    "        a= driver.find_element(by=By.XPATH, value=f'//*[@id=\"cidade-2\"]/td[3]/button/span')\n",
    "        a.click()\n",
    "    except TimeoutException:\n",
    "        print (\"Loading took too much time!\")\n",
    "\n",
    "        # //*[@id=\"staticBackdropLabel\"]\n",
    "\n",
    "    #Clica e Digita o email\n",
    "    digitaemail=driver.find_element(by=By.XPATH, value='//*[@id=\"EmailSngpc\"]')\n",
    "    digitaemail.clear()\n",
    "    digitaemail.send_keys(p_email)\n",
    "    #Clica e digita a senha\n",
    "    a=driver.find_element(by=By.XPATH, value='//*[@id=\"SenhaSngpc\"]')\n",
    "    a.clear()\n",
    "    a.send_keys(p_senha)\n",
    "    #Clica no botão de salvar\n",
    "    driver.find_element(by=By.XPATH, value='//*[@id=\"content\"]/div/form/div/div/div[12]/button').click()\n",
    "    #clica no botão de novo cadastro\n",
    "    if  not loop == inputloop:\n",
    "        sleep(1)\n",
    "        driver.find_element(by=By.XPATH, value='//*[@id=\"content\"]/div/h1/span/a/i').click()\n",
    "\n",
    "\n",
    "\n",
    "\n",
    "    loop+=1"
   ]
  },
  {
   "cell_type": "markdown",
   "metadata": {},
   "source": [
    "## *Testes*\n"
   ]
  },
  {
   "cell_type": "code",
   "execution_count": null,
   "metadata": {},
   "outputs": [],
   "source": [
    "\n",
    "\n",
    "# cidadao = fake_cidadao()\n",
    "# # # company = fake_empresa()\n",
    "# # # vehicle = fake_veiculo()\n",
    "\n",
    "# print(cidadao)\n",
    "# print(company)\n",
    "# print(vehicle)\n"
   ]
  }
 ],
 "metadata": {
  "kernelspec": {
   "display_name": "Python 3.10.4 ('venv': venv)",
   "language": "python",
   "name": "python3"
  },
  "language_info": {
   "codemirror_mode": {
    "name": "ipython",
    "version": 3
   },
   "file_extension": ".py",
   "mimetype": "text/x-python",
   "name": "python",
   "nbconvert_exporter": "python",
   "pygments_lexer": "ipython3",
   "version": "3.10.4"
  },
  "orig_nbformat": 4,
  "vscode": {
   "interpreter": {
    "hash": "a50865086a2011c05f1fece9168fb05692b29d86a2490ba19c7f1d4969270572"
   }
  }
 },
 "nbformat": 4,
 "nbformat_minor": 2
}
