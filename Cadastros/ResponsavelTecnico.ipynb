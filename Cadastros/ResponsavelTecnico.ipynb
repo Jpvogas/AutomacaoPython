{
 "cells": [
  {
   "cell_type": "markdown",
   "metadata": {},
   "source": [
    "## **Bibliotecas** "
   ]
  },
  {
   "cell_type": "code",
   "execution_count": 2,
   "metadata": {},
   "outputs": [],
   "source": [
    "import selenium \n",
    "from selenium import webdriver\n",
    "from selenium.webdriver.common.by import By\n",
    "import cpf\n",
    "from fakedadosbr import fake_cidadao, fake_empresa\n",
    "import re\n",
    "import random\n",
    "from time import sleep\n",
    "\n",
    "from selenium.webdriver.support.ui import WebDriverWait\n",
    "from selenium.webdriver.support import expected_conditions as EC\n",
    "from selenium.webdriver.common.by import By\n",
    "from selenium.common.exceptions import TimeoutException"
   ]
  },
  {
   "cell_type": "markdown",
   "metadata": {},
   "source": [
    "# **Tela de login**"
   ]
  },
  {
   "cell_type": "code",
   "execution_count": 3,
   "metadata": {},
   "outputs": [],
   "source": [
    "driver = webdriver.Chrome()\n",
    "driver.get(\"https://gpcwebhomol.rcasistemas.com.br/Account/Login\")\n",
    "driver.maximize_window()\n"
   ]
  },
  {
   "cell_type": "code",
   "execution_count": 4,
   "metadata": {},
   "outputs": [],
   "source": [
    "#Clica no botão de login\n",
    "driver.find_element(by=By.XPATH, value='//*[@id=\"Login\"]').click()\n",
    "#Prenche login e senha\n",
    "driver.find_element(by=By.XPATH, value='//*[@id=\"Login\"]').clear()\n",
    "driver.find_element(by=By.XPATH, value='//*[@id=\"Login\"]').send_keys('09072237000152')\n",
    "driver.find_element(by=By.XPATH, value='//*[@id=\"Senha\"]').clear()\n",
    "driver.find_element(by=By.XPATH, value='//*[@id=\"Senha\"]').send_keys('123456')\n",
    "#Clica no botão entrar\n",
    "driver.find_element(by=By.XPATH, value='//*[@id=\"btnEntrar\"]').click()\n"
   ]
  },
  {
   "cell_type": "markdown",
   "metadata": {},
   "source": [
    "## **Entrar no cadastro de responsavel Técnico**"
   ]
  },
  {
   "cell_type": "code",
   "execution_count": 5,
   "metadata": {},
   "outputs": [],
   "source": [
    "#Cadastro do responsavel técnico\n",
    "#Cadastro click\n",
    "driver.find_element(by=By.XPATH, value='//*[@id=\"accordionSidebar\"]/li[2]/a').click()\n",
    "#Click responsavel técnico\n",
    "#driver.find_element(by=By.XPATH, value='//*[@id=\"collapseTwo\"]/div/a[2]').click()\n",
    "driver.find_element(by=By.XPATH, value='//*[@id=\"collapseTwo\"]/div/a[1]').click()\n",
    "#Click botão +\n",
    "driver.find_element(by=By.XPATH, value='//*[@id=\"content\"]/div/h1/span/a/i').click()\n",
    "\n",
    "\n"
   ]
  },
  {
   "cell_type": "markdown",
   "metadata": {},
   "source": [
    "## **Prencher o cadastro de Responsável Técnico**\n"
   ]
  },
  {
   "cell_type": "code",
   "execution_count": 6,
   "metadata": {},
   "outputs": [
    {
     "name": "stdout",
     "output_type": "stream",
     "text": [
      "Page is ready!\n"
     ]
    }
   ],
   "source": [
    "##Dados da variaveis\n",
    "# loop =1\n",
    "# inputloop= int(input(\"quantidade: \"))\n",
    "# while loop <= inputloop:\n",
    "\n",
    "#     print(loop)\n",
    "cidadao = fake_cidadao()\n",
    "for i in cidadao:\n",
    "    p_nome = i.get('nome')\n",
    "    p_rg = i.get('rg')\n",
    "    p_tel = i.get('celular')\n",
    "    p_email = i.get('email')\n",
    "    p_endereco = i.get('endereco')\n",
    "    p_bairro = i.get('bairro')\n",
    "    p_numero = i.get('numero')\n",
    "    p_cep = i.get('cep')\n",
    "    p_senha = i.get('senha')\n",
    "    p_CPF = i.get('cpf')\n",
    "    \n",
    "\n",
    "#tratamento nome curto\n",
    "p_nomeL = re.split(\"\\s\", p_nome)\n",
    "p_namecurto = p_nomeL[0]\n",
    "\n",
    "#Tratamento selecionar status\n",
    "estadonum = random.randint(2,28)\n",
    "\n",
    "#random CRF\n",
    "numCRF = random.randint(10000000000,99999999999)\n",
    "\n",
    "cidaderandom = random.randint(3,19)\n",
    "\n",
    "# p_CPF = cpf.gerar(1,-1)\n",
    "# print(p_CPF)\n",
    "\n",
    "#Clica no botão de cpf e digita\n",
    "driver.find_element(by=By.XPATH, value='//*[@id=\"inputcnpjcpf\"]').click()\n",
    "driver.find_element(by=By.XPATH, value='//*[@id=\"inputcnpjcpf\"]').clear()\n",
    "driver.find_element(by=By.XPATH, value='//*[@id=\"inputcnpjcpf\"]').send_keys(p_CPF)\n",
    "#Clica no botão de identidade e digita\n",
    "driver.find_element(by=By.XPATH, value='//*[@id=\"inputidentidade\"]').clear()\n",
    "driver.find_element(by=By.XPATH, value='//*[@id=\"inputidentidade\"]').send_keys(p_rg)\n",
    "#Clica no Telefone e digita\n",
    "driver.find_element(by=By.XPATH, value='//*[@id=\"inputTelefone\"]').clear()\n",
    "driver.find_element(by=By.XPATH, value='//*[@id=\"inputTelefone\"]').send_keys(p_tel)\n",
    "#Clica no nome curto e prenche\n",
    "driver.find_element(by=By.XPATH, value='//*[@id=\"Pessoa_NomeFantasia\"]').clear()\n",
    "driver.find_element(by=By.XPATH, value='//*[@id=\"Pessoa_NomeFantasia\"]').send_keys(p_namecurto)\n",
    "#Clica no nome completo e prenche\n",
    "driver.find_element(by=By.XPATH, value='//*[@id=\"Pessoa_RazaoSocial\"]').clear()\n",
    "driver.find_element(by=By.XPATH, value='//*[@id=\"Pessoa_RazaoSocial\"]').send_keys(p_nome)\n",
    "#Clica no email e prenche\n",
    "driver.find_element(by=By.XPATH, value='//*[@id=\"Pessoa_Email\"]').clear()\n",
    "driver.find_element(by=By.XPATH, value='//*[@id=\"Pessoa_Email\"]').send_keys(p_email)\n",
    "#Clica no CRF e prenche\n",
    "driver.find_element(by=By.XPATH, value='//*[@id=\"CRF\"]').clear()\n",
    "driver.find_element(by=By.XPATH, value='//*[@id=\"CRF\"]').send_keys(numCRF)\n",
    "#Seleciona o estado\n",
    "driver.find_element(by=By.XPATH, value=f'//*[@id=\"Uf\"]/option[{estadonum}]').click()\n",
    "#Clica e digita o logradouro\n",
    "driver.find_element(by=By.XPATH, value='//*[@id=\"Pessoa_Endereco\"]').clear()\n",
    "driver.find_element(by=By.XPATH, value='//*[@id=\"Pessoa_Endereco\"]').send_keys(p_endereco)\n",
    "#Clica e digita o bairro\n",
    "driver.find_element(by=By.XPATH, value='//*[@id=\"Pessoa_Bairro\"]').clear()\n",
    "driver.find_element(by=By.XPATH, value='//*[@id=\"Pessoa_Bairro\"]').send_keys(p_bairro)\n",
    "#Clica e digita o numero\n",
    "driver.find_element(by=By.XPATH, value='//*[@id=\"Pessoa_Numero\"]').clear()\n",
    "driver.find_element(by=By.XPATH, value='//*[@id=\"Pessoa_Numero\"]').send_keys(p_numero)\n",
    "#Clica e Digita cep\n",
    "driver.find_element(by=By.XPATH, value='//*[@id=\"inputCep\"]').clear()\n",
    "driver.find_element(by=By.XPATH, value='//*[@id=\"inputCep\"]').send_keys(p_cep)\n",
    "\n",
    "#Seleciona a cidade\n",
    "# driver.find_element(by=By.XPATH, value='//*[@id=\"content\"]/div/form/div/div/div[11]/div[1]/div[3]/div/a').click()\n",
    "\n",
    "\n",
    "# #delay = 3 # seconds\n",
    "# ggclick=driver.find_element(by=By.XPATH, value='//*[@id=\"tbodyCidades\"]/tr[1]/td[3]/a/span')\n",
    "# print('ggclick')\n",
    "# # ggclick.click()\n",
    "# exit()\n",
    "\n",
    "driver.find_element(by=By.XPATH, value='//*[@id=\"content\"]/div/form/div/div/div[11]/div[1]/div[3]/div/a').click()\n",
    "delay = 3 # seconds\n",
    "try:\n",
    "    myElem = WebDriverWait(driver, delay).until(EC.presence_of_element_located((By.XPATH, '//*[@id=\"modalPesquisaCidades\"]')))\n",
    "    print (\"Page is ready!\")\n",
    "    driver.find_element(by=By.XPATH, value=f'//*[@id=\"tbodyCidades\"]/tr[1]/td[3]/a/span').click()\n",
    "except TimeoutException:\n",
    "    print (\"Loading took too much time!\")\n",
    "\n",
    "    # //*[@id=\"staticBackdropLabel\"]\n",
    "\n",
    "#Clica e Digita o email\n",
    "driver.find_element(by=By.XPATH, value='//*[@id=\"EmailSngpc\"]').clear()\n",
    "driver.find_element(by=By.XPATH, value='//*[@id=\"EmailSngpc\"]').send_keys(p_email)\n",
    "#Clica e digita a senha\n",
    "driver.find_element(by=By.XPATH, value='//*[@id=\"SenhaSngpc\"]').clear()\n",
    "driver.find_element(by=By.XPATH, value='//*[@id=\"SenhaSngpc\"]').send_keys(p_senha)\n",
    "#Clica no botão de salvar\n",
    "driver.find_element(by=By.XPATH, value='//*[@id=\"content\"]/div/form/div/div/div[12]/button/span').click()\n",
    "\n",
    "#   loop+=1"
   ]
  },
  {
   "cell_type": "markdown",
   "metadata": {},
   "source": [
    "## **Testes**\n"
   ]
  },
  {
   "cell_type": "code",
   "execution_count": 7,
   "metadata": {},
   "outputs": [],
   "source": [
    "# from selenium import webdriver\n",
    "# from selenium.webdriver.support.ui import WebDriverWait\n",
    "# from selenium.webdriver.support import expected_conditions as EC\n",
    "# from selenium.webdriver.common.by import By\n",
    "# from selenium.common.exceptions import TimeoutException\n",
    "\n",
    "# browser = webdriver.Chrome()\n",
    "# browser.get(\"https://gpcwebhomol.rcasistemas.com.br/ResponsavelTecnico/Cadastro\")\n"
   ]
  },
  {
   "cell_type": "code",
   "execution_count": 8,
   "metadata": {},
   "outputs": [],
   "source": [
    "# from tabnanny import check\n",
    "# from fakedadosbr import fake_cidadao\n",
    "\n",
    "# cidadao = fake_cidadao()\n",
    "# for i in cidadao:\n",
    "#     p_nome = i.get ('nome')\n",
    "\n",
    "\n",
    "# print(p_nome)\n",
    "# p_nomeL = re.split(\"\\s\", p_nome)\n",
    "# print(p_nomeL)\n",
    "\n",
    "# p_namecurto = p_nomeL[0]\n",
    "# print(p_namecurto)\n",
    "# #p_rg = i.get('rg')\n",
    "\n",
    "# #print(cidadao)\n",
    "# # print (check)\n",
    "\n",
    "\n",
    "# # import re\n",
    "\n",
    "# #Split the string at every white-space character:\n",
    "# print(p_name)\n",
    "# p_nomeL = re.split(\"\\s\", p_nome)\n",
    "# print(p_nomeL)\n",
    "\n",
    "\n",
    "# # y = x[2]\n",
    "# # print(y)\n",
    "\n",
    "\n",
    "# cidadao = fake_cidadao()\n",
    "# for i in cidadao:\n",
    "#     p_nome = i.get('nome')\n",
    "#     p_rg = i.get('rg')\n",
    "#     p_tel = i.get('telefone_fixo')\n",
    "\n",
    "\n",
    "#     print(cidadao)\n",
    "\n",
    "\n",
    "# from fakedadosbr import fake_cidadao, fake_empresa, fake_veiculo\n",
    "\n",
    "# cidadao = fake_cidadao()\n",
    "# # # company = fake_empresa()\n",
    "# # # vehicle = fake_veiculo()\n",
    "\n",
    "# print(cidadao)\n",
    "# print(company)\n",
    "# print(vehicle)\n",
    "\n",
    "# p_nomeL = re.split(\"\\s\", p_nome)\n",
    "# p_namecurto = p_nomeL[0]\n",
    "\n",
    "# estadonum = random.randint(2,28)\n",
    "# print(estadonum)\n",
    "\n",
    "# print(f'O numero é: {estadonum}')"
   ]
  }
 ],
 "metadata": {
  "kernelspec": {
   "display_name": "Python 3.10.4 64-bit",
   "language": "python",
   "name": "python3"
  },
  "language_info": {
   "codemirror_mode": {
    "name": "ipython",
    "version": 3
   },
   "file_extension": ".py",
   "mimetype": "text/x-python",
   "name": "python",
   "nbconvert_exporter": "python",
   "pygments_lexer": "ipython3",
   "version": "3.10.4"
  },
  "orig_nbformat": 4,
  "vscode": {
   "interpreter": {
    "hash": "1f5b2b5b602d2add996fbed2eea0cbe758e6109cfc274485bdead68c27c84411"
   }
  }
 },
 "nbformat": 4,
 "nbformat_minor": 2
}
