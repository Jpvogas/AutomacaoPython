{
 "cells": [
  {
   "cell_type": "markdown",
   "metadata": {},
   "source": [
    "## *Bibliotecas*"
   ]
  },
  {
   "cell_type": "code",
   "execution_count": 15,
   "metadata": {},
   "outputs": [],
   "source": [
    "import selenium \n",
    "from selenium import webdriver\n",
    "from selenium.webdriver.common.by import By\n",
    "import cpf\n",
    "from fakedadosbr import fake_cidadao, fake_empresa\n",
    "import re\n",
    "import random\n",
    "from time import sleep\n",
    "\n",
    "from selenium.webdriver.support.ui import WebDriverWait\n",
    "from selenium.webdriver.support import expected_conditions as EC\n",
    "from selenium.webdriver.common.by import By\n",
    "from selenium.common.exceptions import TimeoutException"
   ]
  },
  {
   "cell_type": "markdown",
   "metadata": {},
   "source": [
    "## *Tela de login*"
   ]
  },
  {
   "cell_type": "code",
   "execution_count": 16,
   "metadata": {},
   "outputs": [
    {
     "name": "stderr",
     "output_type": "stream",
     "text": [
      "C:\\Users\\Vogas\\AppData\\Local\\Temp\\ipykernel_5480\\390741890.py:1: DeprecationWarning: executable_path has been deprecated, please pass in a Service object\n",
      "  driver = webdriver.Chrome('..\\\\chromedriver.exe')\n"
     ]
    }
   ],
   "source": [
    "driver = webdriver.Chrome('..\\\\chromedriver.exe')\n",
    "driver.get(\"https://gpcwebhomol.rcasistemas.com.br/Account/Login\")\n",
    "driver.maximize_window()"
   ]
  },
  {
   "cell_type": "code",
   "execution_count": 17,
   "metadata": {},
   "outputs": [],
   "source": [
    "#Clica no botão de login\n",
    "driver.find_element(by=By.XPATH, value='//*[@id=\"Login\"]').click()\n",
    "#Prenche login e senha\n",
    "driver.find_element(by=By.XPATH, value='//*[@id=\"Login\"]').clear()\n",
    "driver.find_element(by=By.XPATH, value='//*[@id=\"Login\"]').send_keys('09072237000152')\n",
    "driver.find_element(by=By.XPATH, value='//*[@id=\"Senha\"]').clear()\n",
    "driver.find_element(by=By.XPATH, value='//*[@id=\"Senha\"]').send_keys('123456')\n",
    "#Clica no botão entrar\n",
    "driver.find_element(by=By.XPATH, value='//*[@id=\"btnEntrar\"]').click()"
   ]
  },
  {
   "cell_type": "markdown",
   "metadata": {},
   "source": [
    "## *Entrar no cadastro de clientes*"
   ]
  },
  {
   "cell_type": "code",
   "execution_count": 18,
   "metadata": {},
   "outputs": [],
   "source": [
    "#Cadastro click\n",
    "driver.find_element(by=By.XPATH, value='//*[@id=\"accordionSidebar\"]/li[2]/a').click()\n",
    "sleep(1)\n",
    "#Click Cadastro cliente\n",
    "driver.find_element(by=By.XPATH, value='//*[@id=\"collapseCadastro\"]/div/a[3]').click()\n",
    "#Click botão +\n",
    "driver.find_element(by=By.XPATH, value='//*[@id=\"content\"]/div/h1/span/a/i').click()"
   ]
  },
  {
   "cell_type": "markdown",
   "metadata": {},
   "source": [
    "## *Cadastro do cliente*\n"
   ]
  },
  {
   "cell_type": "code",
   "execution_count": 19,
   "metadata": {},
   "outputs": [
    {
     "name": "stdout",
     "output_type": "stream",
     "text": [
      "1\n",
      "2\n"
     ]
    }
   ],
   "source": [
    "# #Dados da variaveis\n",
    "loop =1\n",
    "inputloop= int(input(\"quantidade: \"))\n",
    "while loop <= inputloop:\n",
    "\n",
    "    print(loop)\n",
    "    from multiprocessing.sharedctypes import Value\n",
    "\n",
    "\n",
    "    cidadao = fake_cidadao()\n",
    "    for i in cidadao:\n",
    "        p_nome = i.get('nome')\n",
    "        p_rg = i.get('rg')\n",
    "        p_tel = i.get('celular')\n",
    "        p_email = i.get('email')\n",
    "        p_endereco = i.get('endereco')\n",
    "        p_bairro = i.get('bairro')\n",
    "        p_numero = i.get('numero')\n",
    "        p_cep = i.get('cep')\n",
    "        p_senha = i.get('senha')\n",
    "        p_CPF = i.get('cpf')\n",
    "        p_Datanasc = i.get('data_nasc')\n",
    "\n",
    "    #Funções de localização\n",
    "    def findElementPath(elementPath):\n",
    "        return driver.find_element(by=By.XPATH, value=f'{elementPath}')\n",
    "\n",
    "    def findElementID(elementID):\n",
    "        return driver.find_element(by=By.ID, value=f'{elementID}')\n",
    "\n",
    "\n",
    "    #tratamento nome curto\n",
    "    p_nomeL = re.split(\"\\s\", p_nome)\n",
    "    p_namecurto = p_nomeL[0]\n",
    "\n",
    "    #Tratamento selecionar status\n",
    "    estadonum = random.randint(2,28)\n",
    "\n",
    "    #random CRF\n",
    "    numCRF = random.randint(10000000000,99999999999)\n",
    "\n",
    "    #random cidade\n",
    "    cidaderandom = random.randint(2,20)\n",
    "\n",
    "    #random CRM\n",
    "    crmRandom = random.randint(100000,999999)\n",
    "\n",
    "    #random Conselho proffisional\n",
    "    cprandom = random.randint(2,5)\n",
    "\n",
    "    #random sexo\n",
    "    sexorandom = random.randint(2,4)\n",
    "\n",
    "    #random documento tipo\n",
    "    doctype = random.randint(3,19)\n",
    "\n",
    "    #random orgão expedidor\n",
    "    orgaoexped = random.randint(3,51)\n",
    "\n",
    "\n",
    "\n",
    "    #Clica no botão de cpf e digita\n",
    "    campo_cpf = findElementPath('//*[@id=\"inputcnpjcpf\"]')\n",
    "    campo_cpf.clear()\n",
    "    campo_cpf.send_keys(p_CPF)\n",
    "    #Clica no botão de identidade e digita\n",
    "    rg_id = findElementID('inputIdentidade')\n",
    "    rg_id.clear()\n",
    "    rg_id.send_keys(p_rg)\n",
    "    #Clica no Telefone e digita\n",
    "    Telfone = findElementPath('//*[@id=\"inputTelefone\"]')\n",
    "    Telfone.clear()\n",
    "    Telfone.send_keys(p_tel)\n",
    "    #Clica no nome e prenche\n",
    "    nomepessoa = findElementID('Pessoa_RazaoSocial')\n",
    "    nomepessoa.clear()\n",
    "    nomepessoa.send_keys(p_nome)\n",
    "    #Clica no nome curto e prenche\n",
    "    nc_v = findElementPath('//*[@id=\"Pessoa_NomeFantasia\"]')\n",
    "    nc_v.clear()\n",
    "    nc_v.send_keys(p_namecurto)\n",
    "    #Clica e digita o logradouro\n",
    "    logradouro = findElementPath('//*[@id=\"Pessoa_Endereco\"]')\n",
    "    logradouro.clear()\n",
    "    logradouro.send_keys(p_endereco)\n",
    "    #Clica e digita o bairro\n",
    "    bairro_v = findElementPath('//*[@id=\"Pessoa_Bairro\"]')\n",
    "    bairro_v.clear()\n",
    "    bairro_v.send_keys(p_bairro)\n",
    "    #Clica e digita o numero\n",
    "    numero_v = findElementPath('//*[@id=\"Pessoa_Numero\"]')\n",
    "    numero_v.clear()\n",
    "    numero_v.send_keys(p_numero)\n",
    "    #Clica e Digita cep\n",
    "    cep_v = findElementPath('//*[@id=\"inputCep\"]')\n",
    "    cep_v.clear()\n",
    "    cep_v.send_keys(p_cep)\n",
    "    #Seleciona o sexo\n",
    "    s_sexo = findElementPath(f'//*[@id=\"Sexo\"]/option[{sexorandom}]')\n",
    "    s_sexo.click()\n",
    "    #Selecionar a data\n",
    "    d_date = findElementPath(f'//*[@id=\"inputDtNascimento\"]')\n",
    "    d_date.click()\n",
    "    d_date.send_keys(p_Datanasc)\n",
    "    #Selecione o tipo de documento\n",
    "    documento_tipo = findElementPath(f'//*[@id=\"TipoDocumento\"]/option[{doctype}]')\n",
    "    documento_tipo.click()\n",
    "    #Selecione orgão expedidor\n",
    "    orgaoexp = findElementPath(f'//*[@id=\"OrgaoExpedidor\"]/option[{orgaoexped}]')\n",
    "    orgaoexp.click()\n",
    "    #Seleciona o estado \n",
    "    estado_v = findElementPath(f'//*[@id=\"Uf\"]/option[{estadonum}]')\n",
    "    estado_v.click()\n",
    "    #Digita o numero do documento\n",
    "    num_docc = findElementPath('//*[@id=\"NrDocumento\"]')\n",
    "    num_docc.clear()\n",
    "    num_docc.send_keys(p_rg)\n",
    "\n",
    "    #clica e seleciona a cidade\n",
    "    lupacidadde = driver.find_element(by=By.XPATH, value='//*[@id=\"divbody\"]/form/div/div[2]/div[2]/div/div[2]/div[1]/div/div/a')\n",
    "    lupacidadde.click()\n",
    "    delay = 10 # seconds\n",
    "    try:\n",
    "        myElem = WebDriverWait(driver, delay).until(EC.presence_of_element_located((By.XPATH, '//*[@id=\"modalPesquisaCidades\"]')))\n",
    "        sleep (1)\n",
    "        a= driver.find_element(by=By.XPATH, value=f'//*[@id=\"cidade-2\"]/td[3]/button/span')\n",
    "        a.click()\n",
    "    except TimeoutException:\n",
    "        print (\"Demorando muito!!!\")\n",
    "\n",
    "    #Clica no botão de salvar\n",
    "    driver.find_element(by=By.XPATH, value='//*[@id=\"divbody\"]/form/div/div[2]/div[4]/button').click()\n",
    "    #clica no botão de novo cadastro\n",
    "    if  not loop == inputloop:\n",
    "        sleep(1)\n",
    "        driver.find_element(by=By.XPATH, value='//*[@id=\"divbody\"]/h1/span/a').click()\n",
    "\n",
    "\n",
    "\n",
    "\n",
    "    loop+=1"
   ]
  }
 ],
 "metadata": {
  "kernelspec": {
   "display_name": "Python 3.10.4 ('venv': venv)",
   "language": "python",
   "name": "python3"
  },
  "language_info": {
   "codemirror_mode": {
    "name": "ipython",
    "version": 3
   },
   "file_extension": ".py",
   "mimetype": "text/x-python",
   "name": "python",
   "nbconvert_exporter": "python",
   "pygments_lexer": "ipython3",
   "version": "3.10.4"
  },
  "orig_nbformat": 4,
  "vscode": {
   "interpreter": {
    "hash": "a50865086a2011c05f1fece9168fb05692b29d86a2490ba19c7f1d4969270572"
   }
  }
 },
 "nbformat": 4,
 "nbformat_minor": 2
}
