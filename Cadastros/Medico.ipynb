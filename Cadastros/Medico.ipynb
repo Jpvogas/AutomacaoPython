{
 "cells": [
  {
   "cell_type": "markdown",
   "metadata": {},
   "source": [
    "## **Bibliotecas**\n"
   ]
  },
  {
   "cell_type": "code",
   "execution_count": null,
   "metadata": {},
   "outputs": [],
   "source": [
    "import selenium \n",
    "from selenium import webdriver\n",
    "from selenium.webdriver.common.by import By\n",
    "import cpf\n",
    "from fakedadosbr import fake_cidadao, fake_empresa\n",
    "import re\n",
    "import random\n",
    "from time import sleep\n",
    "\n",
    "from selenium.webdriver.support.ui import WebDriverWait\n",
    "from selenium.webdriver.support import expected_conditions as EC\n",
    "from selenium.webdriver.common.by import By\n",
    "from selenium.common.exceptions import TimeoutException"
   ]
  },
  {
   "cell_type": "markdown",
   "metadata": {},
   "source": [
    "## **Tela de login**"
   ]
  },
  {
   "cell_type": "code",
   "execution_count": null,
   "metadata": {},
   "outputs": [],
   "source": [
    "driver = webdriver.Chrome()\n",
    "driver.get(\"https://gpcwebhomol.rcasistemas.com.br/Account/Login\")\n",
    "driver.maximize_window()"
   ]
  },
  {
   "cell_type": "code",
   "execution_count": null,
   "metadata": {},
   "outputs": [],
   "source": [
    "#Clica no botão de login\n",
    "driver.find_element(by=By.XPATH, value='//*[@id=\"Login\"]').click()\n",
    "#Prenche login e senha\n",
    "driver.find_element(by=By.XPATH, value='//*[@id=\"Login\"]').clear()\n",
    "a=driver.find_element(by=By.XPATH, value='//*[@id=\"Login\"]').send_keys('09072237000152')\n",
    "driver.find_element(by=By.XPATH, value='//*[@id=\"Senha\"]').clear()\n",
    "driver.find_element(by=By.XPATH, value='//*[@id=\"Senha\"]').send_keys('123456')\n",
    "#Clica no botão entrar\n",
    "driver.find_element(by=By.XPATH, value='//*[@id=\"btnEntrar\"]').click()"
   ]
  },
  {
   "cell_type": "markdown",
   "metadata": {},
   "source": [
    "## **Entra no cadastro de médico**"
   ]
  },
  {
   "cell_type": "code",
   "execution_count": null,
   "metadata": {},
   "outputs": [],
   "source": [
    "#Cadastro do responsavel técnico\n",
    "#Cadastro click\n",
    "driver.find_element(by=By.XPATH, value='//*[@id=\"accordionSidebar\"]/li[2]/a').click()\n",
    "sleep(1)\n",
    "#Click Cadastro médico\n",
    "driver.find_element(by=By.XPATH, value='//*[@id=\"collapseTwo\"]/div/a[4]').click()\n",
    "#Click botão +\n",
    "driver.find_element(by=By.XPATH, value='//*[@id=\"content\"]/div/h1/span/a/i').click()"
   ]
  },
  {
   "cell_type": "markdown",
   "metadata": {},
   "source": [
    "## **Cadastro do médico**\n"
   ]
  },
  {
   "cell_type": "code",
   "execution_count": null,
   "metadata": {},
   "outputs": [],
   "source": [
    "# #Dados da variaveis\n",
    "loop =1\n",
    "inputloop= int(input(\"quantidade: \"))\n",
    "while loop <= inputloop:\n",
    "\n",
    "    print(loop)\n",
    "    from multiprocessing.sharedctypes import Value\n",
    "\n",
    "\n",
    "    cidadao = fake_cidadao()\n",
    "    for i in cidadao:\n",
    "        p_nome = i.get('nome')\n",
    "        p_rg = i.get('rg')\n",
    "        p_tel = i.get('celular')\n",
    "        p_email = i.get('email')\n",
    "        p_endereco = i.get('endereco')\n",
    "        p_bairro = i.get('bairro')\n",
    "        p_numero = i.get('numero')\n",
    "        p_cep = i.get('cep')\n",
    "        p_senha = i.get('senha')\n",
    "        p_CPF = i.get('cpf')\n",
    "\n",
    "    #Funções de localização\n",
    "    def findElementPath(elementPath):\n",
    "        return driver.find_element(by=By.XPATH, value=f'{elementPath}')\n",
    "\n",
    "    def findElementID(elementID):\n",
    "        return driver.find_element(by=By.ID, value=f'{elementID}')\n",
    "\n",
    "    # def findElementOP(Option):\n",
    "    #     return driver.find_element(by=By.XPATH, value=f'//*[@id=\"ConselhoProfissional\"]/option[{cprandom}]')\n",
    "\n",
    "\n",
    "\n",
    "\n",
    "\n",
    "    #Tratamento selecionar status\n",
    "    estadonum = random.randint(2,28)\n",
    "\n",
    "    #random CRF\n",
    "    numCRF = random.randint(10000000000,99999999999)\n",
    "\n",
    "    #random cidade\n",
    "    cidaderandom = random.randint(2,20)\n",
    "\n",
    "    #random CRM\n",
    "    crmRandom = random.randint(100000,999999)\n",
    "\n",
    "    #random Conselho proffisional\n",
    "    cprandom = random.randint(2,5)\n",
    "\n",
    "\n",
    "    #Clica no botão de cpf e digita\n",
    "    campo_cpf = findElementPath('//*[@id=\"inputcnpjcpf\"]')\n",
    "    campo_cpf.clear()\n",
    "    campo_cpf.send_keys(p_CPF)\n",
    "    #Clica no botão de identidade e digita\n",
    "    rg_id = findElementID('inputIdentidade')\n",
    "    rg_id.clear()\n",
    "    rg_id.send_keys(p_rg)\n",
    "    #Clica no Telefone e digita\n",
    "    Telfone = findElementPath('//*[@id=\"inputTelefone\"]')\n",
    "    Telfone.clear()\n",
    "    Telfone.send_keys(p_tel)\n",
    "    #Clica no nome e prenche\n",
    "    nomepessoa = findElementID('Pessoa_RazaoSocial')\n",
    "    nomepessoa.clear()\n",
    "    nomepessoa.send_keys(p_nome)\n",
    "    #Clica no crm e prenche\n",
    "    crmnum = findElementPath('//*[@id=\"CRM\"]')\n",
    "    crmnum.clear()\n",
    "    crmnum.send_keys(crmRandom)\n",
    "    #Clica no conselho profissional\n",
    "    driver.find_element(by=By.XPATH, value=f'//*[@id=\"ConselhoProfissional\"]/option[{cprandom}]').click()\n",
    "    #Seleciona o Estado\n",
    "    driver.find_element(by=By.XPATH, value=f'//*[@id=\"Uf\"]/option[{estadonum}]').click()\n",
    "    #Clica e digita o logradouro\n",
    "    logradouro = findElementPath('//*[@id=\"Pessoa_Endereco\"]')\n",
    "    logradouro.clear()\n",
    "    logradouro.send_keys(p_endereco)\n",
    "    #Clica e digita o bairro\n",
    "    bairro_v = findElementPath('//*[@id=\"Pessoa_Bairro\"]')\n",
    "    bairro_v.clear()\n",
    "    bairro_v.send_keys(p_bairro)\n",
    "    #Clica e digita o numero\n",
    "    numero_v = findElementPath('//*[@id=\"Pessoa_Numero\"]')\n",
    "    numero_v.clear()\n",
    "    numero_v.send_keys(p_numero)\n",
    "    #Clica e Digita cep\n",
    "    cep_v = findElementPath('//*[@id=\"inputCep\"]')\n",
    "    cep_v.clear()\n",
    "    cep_v.send_keys(p_cep)\n",
    "    #clica e seleciona a cidade\n",
    "    lupacidadde = driver.find_element(by=By.XPATH, value='//*[@id=\"divbody\"]/form/div/div/div[10]/div/div[3]/div/div/a')\n",
    "    lupacidadde.click()\n",
    "\n",
    "    delay = 10 # seconds\n",
    "    try:\n",
    "        myElem = WebDriverWait(driver, delay).until(EC.presence_of_element_located((By.XPATH, '//*[@id=\"modalPesquisaCidades\"]'))) \n",
    "        #print(myElem)\n",
    "        sleep (1)\n",
    "        a= driver.find_element(by=By.XPATH, value=f'//*[@id=\"cidade-2\"]/td[3]/button/span')\n",
    "        a.click()\n",
    "    except TimeoutException:\n",
    "        print (\"Loading took too much time!\")\n",
    "\n",
    "    #Clica no botão de salvar\n",
    "    driver.find_element(by=By.XPATH, value='//*[@id=\"divbody\"]/form/div/div/div[11]/button').click()\n",
    "    #clica no botão de novo cadastro\n",
    "    if  not loop == inputloop:\n",
    "        sleep(1)\n",
    "        driver.find_element(by=By.XPATH, value='//*[@id=\"divbody\"]/h1/span/a').click()\n",
    "\n",
    "\n",
    "\n",
    "\n",
    "    loop+=1\n"
   ]
  }
 ],
 "metadata": {
  "kernelspec": {
   "display_name": "Python 3.10.4 64-bit",
   "language": "python",
   "name": "python3"
  },
  "language_info": {
   "codemirror_mode": {
    "name": "ipython",
    "version": 3
   },
   "file_extension": ".py",
   "mimetype": "text/x-python",
   "name": "python",
   "nbconvert_exporter": "python",
   "pygments_lexer": "ipython3",
   "version": "3.10.4"
  },
  "orig_nbformat": 4,
  "vscode": {
   "interpreter": {
    "hash": "1f5b2b5b602d2add996fbed2eea0cbe758e6109cfc274485bdead68c27c84411"
   }
  }
 },
 "nbformat": 4,
 "nbformat_minor": 2
}
