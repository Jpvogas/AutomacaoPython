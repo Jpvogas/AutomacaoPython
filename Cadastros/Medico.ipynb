{
 "cells": [
  {
   "cell_type": "markdown",
   "metadata": {},
   "source": [
    "## **Bibliotecas**\n"
   ]
  },
  {
   "cell_type": "code",
   "execution_count": null,
   "metadata": {},
   "outputs": [],
   "source": [
    "import selenium \n",
    "from selenium import webdriver\n",
    "from selenium.webdriver.common.by import By\n",
    "import cpf\n",
    "from fakedadosbr import fake_cidadao, fake_empresa\n",
    "import re\n",
    "import random\n",
    "from time import sleep\n",
    "\n",
    "from selenium.webdriver.support.ui import WebDriverWait\n",
    "from selenium.webdriver.support import expected_conditions as EC\n",
    "from selenium.webdriver.common.by import By\n",
    "from selenium.common.exceptions import TimeoutException\n",
    "\n",
    "from ..Teste import funcao"
   ]
  },
  {
   "cell_type": "markdown",
   "metadata": {},
   "source": [
    "## **Tela de login**"
   ]
  },
  {
   "cell_type": "code",
   "execution_count": null,
   "metadata": {},
   "outputs": [],
   "source": [
    "driver = webdriver.Chrome()\n",
    "driver.get(\"https://gpcwebhomol.rcasistemas.com.br/Account/Login\")\n",
    "driver.maximize_window()"
   ]
  },
  {
   "cell_type": "code",
   "execution_count": null,
   "metadata": {},
   "outputs": [],
   "source": [
    "#Clica no botão de login\n",
    "driver.find_element(by=By.XPATH, value='//*[@id=\"Login\"]').click()\n",
    "#Prenche login e senha\n",
    "driver.find_element(by=By.XPATH, value='//*[@id=\"Login\"]').clear()\n",
    "a=driver.find_element(by=By.XPATH, value='//*[@id=\"Login\"]').send_keys('09072237000152')\n",
    "clea\n",
    "driver.find_element(by=By.XPATH, value='//*[@id=\"Senha\"]').clear()\n",
    "driver.find_element(by=By.XPATH, value='//*[@id=\"Senha\"]').send_keys('123456')\n",
    "#Clica no botão entrar\n",
    "driver.find_element(by=By.XPATH, value='//*[@id=\"btnEntrar\"]').click()"
   ]
  }
 ],
 "metadata": {
  "kernelspec": {
   "display_name": "Python 3.10.4 64-bit",
   "language": "python",
   "name": "python3"
  },
  "language_info": {
   "name": "python",
   "version": "3.10.4"
  },
  "orig_nbformat": 4,
  "vscode": {
   "interpreter": {
    "hash": "1f5b2b5b602d2add996fbed2eea0cbe758e6109cfc274485bdead68c27c84411"
   }
  }
 },
 "nbformat": 4,
 "nbformat_minor": 2
}
