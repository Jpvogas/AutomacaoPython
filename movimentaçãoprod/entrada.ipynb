{
 "cells": [
  {
   "cell_type": "markdown",
   "metadata": {},
   "source": [
    "## *Bibliotecas*"
   ]
  },
  {
   "cell_type": "code",
   "execution_count": 2,
   "metadata": {},
   "outputs": [],
   "source": [
    "import selenium \n",
    "from selenium import webdriver\n",
    "from selenium.webdriver.common.by import By\n",
    "import cpf\n",
    "from fakedadosbr import fake_cidadao, fake_empresa\n",
    "import re\n",
    "import random\n",
    "from time import sleep\n",
    "\n",
    "from selenium.webdriver.support.ui import WebDriverWait\n",
    "from selenium.webdriver.support import expected_conditions as EC\n",
    "from selenium.webdriver.common.by import By\n",
    "from selenium.common.exceptions import TimeoutException\n",
    "\n",
    "\n",
    "from selenium.webdriver.common.keys import Keys"
   ]
  },
  {
   "cell_type": "markdown",
   "metadata": {},
   "source": [
    "# *Tela de login*"
   ]
  },
  {
   "cell_type": "code",
   "execution_count": 3,
   "metadata": {},
   "outputs": [],
   "source": [
    "driver = webdriver.Chrome()\n",
    "driver.get(\"https://gpcwebhomol.rcasistemas.com.br/Account/Login\")\n",
    "driver.maximize_window()"
   ]
  },
  {
   "cell_type": "code",
   "execution_count": 4,
   "metadata": {},
   "outputs": [],
   "source": [
    "#Clica no botão de login\n",
    "driver.find_element(by=By.XPATH, value='//*[@id=\"Login\"]').click()\n",
    "#Prenche login e senha\n",
    "driver.find_element(by=By.XPATH, value='//*[@id=\"Login\"]').clear()\n",
    "driver.find_element(by=By.XPATH, value='//*[@id=\"Login\"]').send_keys('09072237000152')\n",
    "driver.find_element(by=By.XPATH, value='//*[@id=\"Senha\"]').clear()\n",
    "driver.find_element(by=By.XPATH, value='//*[@id=\"Senha\"]').send_keys('123456')\n",
    "#Clica no botão entrar\n",
    "driver.find_element(by=By.XPATH, value='//*[@id=\"btnEntrar\"]').click()"
   ]
  },
  {
   "cell_type": "markdown",
   "metadata": {},
   "source": [
    "## *Entrada movimentação*"
   ]
  },
  {
   "cell_type": "code",
   "execution_count": 7,
   "metadata": {},
   "outputs": [],
   "source": [
    "#movimentação  click\n",
    "driver.find_element(by=By.XPATH, value='//*[@id=\"accordionSidebar\"]/li[3]/a').click()\n",
    "sleep(1)\n",
    "#Click movimentação saida\n",
    "driver.find_element(by=By.XPATH, value='//*[@id=\"collapseUtilities\"]/div/a[1]').click()\n",
    "#Click no botão de nova entrada\n",
    "driver.find_element(by=By.XPATH, value='//*[@id=\"viewIndexEntrada\"]/div[1]/a').click()\n"
   ]
  },
  {
   "cell_type": "markdown",
   "metadata": {},
   "source": [
    "## *Realizar uma entrada*"
   ]
  },
  {
   "cell_type": "code",
   "execution_count": 44,
   "metadata": {},
   "outputs": [],
   "source": [
    "#Inicio do loop\n",
    "# loop =1\n",
    "# inputloop= int(input(\"quantidade: \"))\n",
    "# while loop <= inputloop:\n",
    "\n",
    "#     print(loop)\n",
    "#     from multiprocessing.sharedctypes import Value\n",
    "\n",
    "\n",
    "#Dados da variaveis\n",
    "from webbrowser import Chrome\n",
    "\n",
    "\n",
    "empresa = fake_empresa()\n",
    "e_cnpj = empresa.get('cnpj')\n",
    "\n",
    "cidadao = fake_cidadao()\n",
    "for i in cidadao:\n",
    "    p_nome = i.get('nome')\n",
    "    p_rg = i.get('rg')\n",
    "    p_tel = i.get('celular')\n",
    "    p_email = i.get('email')\n",
    "    p_endereco = i.get('endereco')\n",
    "    p_bairro = i.get('bairro')\n",
    "    p_numero = i.get('numero')\n",
    "    p_cep = i.get('cep')\n",
    "    p_senha = i.get('senha')\n",
    "    p_CPF = i.get('cpf')\n",
    "    p_Datanasc = i.get('data_nasc')\n",
    "\n",
    "#Funções de localização\n",
    "def findElementPath(elementPath):\n",
    "    return driver.find_element(by=By.XPATH, value=f'{elementPath}')\n",
    "\n",
    "def findElementID(elementID):\n",
    "    return driver.find_element(by=By.ID, value=f'{elementID}')\n",
    "\n",
    "\n",
    "#tratamento nome curto\n",
    "p_nomeL = re.split(\"\\s\", p_nome)\n",
    "p_namecurto = p_nomeL[0]\n",
    "\n",
    "#Tratamento selecionar status\n",
    "estadonum = random.randint(2,28)\n",
    "\n",
    "#random CRF\n",
    "numCRF = random.randint(10000000000,99999999999)\n",
    "\n",
    "#random cidade, medico\n",
    "searchrandom = random.randint(2,10)\n",
    "\n",
    "#random CRM\n",
    "crmRandom = random.randint(100000,999999)\n",
    "\n",
    "#random Conselho proffisional\n",
    "cprandom = random.randint(2,5)\n",
    "\n",
    "#random documento tipo\n",
    "doctype = random.randint(3,19)\n",
    "\n",
    "#random orgão expedidor\n",
    "orgaoexped = random.randint(3,51)\n",
    "\n",
    "#Seleciona o fornecedor\n",
    "lupafornecedor = findElementPath('//*[@id=\"btnBuscarFornecedor\"]')\n",
    "lupafornecedor.click()\n",
    "delay = 10 # seconds\n",
    "try:\n",
    "    myElem = WebDriverWait(driver, delay).until(EC.presence_of_element_located((By.XPATH, '//*[@id=\"staticBackdropLabel\"]')))\n",
    "    sleep(1)\n",
    "    fornecedor_select = findElementPath(f'//*[@id=\"modalPesquisaFornecedor\"]/div/div/div[2]/div/table/tbody/tr[{searchrandom}]/td[4]/button')\n",
    "    fornecedor_select.click()\n",
    "except TimeoutException:\n",
    "    print (\"Demorando muito!!!\")\n",
    "\n",
    "\n",
    "# #Clica no botão de salvar\n",
    "# driver.find_element(by=By.XPATH, value='//*[@id=\"viewCadastroSaida\"]/div[1]/div/div[14]/button').click()\n",
    "# #clica no botão de novo cadastro\n",
    "# #if  not loop == inputloop:\n",
    "#sleep(1)\n",
    "#driver.find_element(by=By.XPATH, value='//*[@id=\"divbody\"]/h1/span/a').click()\n",
    "\n",
    "\n",
    "\n",
    "\n",
    "    #loop+=1"
   ]
  }
 ],
 "metadata": {
  "kernelspec": {
   "display_name": "Python 3.10.4 64-bit",
   "language": "python",
   "name": "python3"
  },
  "language_info": {
   "codemirror_mode": {
    "name": "ipython",
    "version": 3
   },
   "file_extension": ".py",
   "mimetype": "text/x-python",
   "name": "python",
   "nbconvert_exporter": "python",
   "pygments_lexer": "ipython3",
   "version": "3.10.4"
  },
  "orig_nbformat": 4,
  "vscode": {
   "interpreter": {
    "hash": "1f5b2b5b602d2add996fbed2eea0cbe758e6109cfc274485bdead68c27c84411"
   }
  }
 },
 "nbformat": 4,
 "nbformat_minor": 2
}
